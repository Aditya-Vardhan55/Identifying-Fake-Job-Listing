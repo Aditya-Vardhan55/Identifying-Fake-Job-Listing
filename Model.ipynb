{
 "cells": [
  {
   "cell_type": "code",
   "execution_count": 2,
   "metadata": {},
   "outputs": [
    {
     "name": "stdout",
     "output_type": "stream",
     "text": [
      "<class 'pandas.core.frame.DataFrame'>\n",
      "RangeIndex: 8940 entries, 0 to 8939\n",
      "Data columns (total 8 columns):\n",
      " #   Column            Non-Null Count  Dtype \n",
      "---  ------            --------------  ----- \n",
      " 0   title             8940 non-null   object\n",
      " 1   location          8783 non-null   object\n",
      " 2   description       8939 non-null   object\n",
      " 3   requirements      7614 non-null   object\n",
      " 4   telecommuting     8940 non-null   int64 \n",
      " 5   has_company_logo  8940 non-null   int64 \n",
      " 6   has_questions     8940 non-null   int64 \n",
      " 7   fraudulent        8940 non-null   int64 \n",
      "dtypes: int64(4), object(4)\n",
      "memory usage: 558.9+ KB\n"
     ]
    },
    {
     "data": {
      "text/plain": [
       "(                                               title                location  \\\n",
       " 0               Architect (Middleware - MQ) - Kuwait                KW, KU,    \n",
       " 1  Interviewing Now for Sales Rep Positions -- wi...  US, TX, Corpus Christi   \n",
       " 2  Process Controls Staff Engineer - Foxboro I/A ...   US, TX, USA Southwest   \n",
       " 3  Experienced Telemarketer Wanted - Digital Solu...               AU, NSW,    \n",
       " 4                            Senior Network Engineer         GB, ENG, London   \n",
       " \n",
       "                                          description  \\\n",
       " 0  On behalf of our client, a well known multinat...   \n",
       " 1  We are Argenta Field Solutions, a rapidly expa...   \n",
       " 2  Experienced Process Controls Staff Engineer is...   \n",
       " 3  If you have a passion for people and love to s...   \n",
       " 4  As the successful Senior Network Engineer you ...   \n",
       " \n",
       "                                         requirements  telecommuting  \\\n",
       " 0  -Working technical knowledge of IT systems and...              0   \n",
       " 1                                             #NAME?              0   \n",
       " 2  At least 10 years of degreed professional expe...              0   \n",
       " 3  Responsibilities - Prospecting, following up a...              0   \n",
       " 4  Essential skills:•Juniper switching/routing/se...              0   \n",
       " \n",
       "    has_company_logo  has_questions  fraudulent  \n",
       " 0                 1              0           0  \n",
       " 1                 1              0           0  \n",
       " 2                 0              0           0  \n",
       " 3                 1              0           0  \n",
       " 4                 1              0           0  ,\n",
       " None,\n",
       "                           title         location  \\\n",
       " count                      8940             8783   \n",
       " unique                     6132             2131   \n",
       " top     English Teacher Abroad   GB, LND, London   \n",
       " freq                        152              367   \n",
       " mean                        NaN              NaN   \n",
       " std                         NaN              NaN   \n",
       " min                         NaN              NaN   \n",
       " 25%                         NaN              NaN   \n",
       " 50%                         NaN              NaN   \n",
       " 75%                         NaN              NaN   \n",
       " max                         NaN              NaN   \n",
       " \n",
       "                                               description  \\\n",
       " count                                                8939   \n",
       " unique                                               7767   \n",
       " top     Play with kids, get paid for it Love travel? J...   \n",
       " freq                                                  187   \n",
       " mean                                                  NaN   \n",
       " std                                                   NaN   \n",
       " min                                                   NaN   \n",
       " 25%                                                   NaN   \n",
       " 50%                                                   NaN   \n",
       " 75%                                                   NaN   \n",
       " max                                                   NaN   \n",
       " \n",
       "                                              requirements  telecommuting  \\\n",
       " count                                                7614    8940.000000   \n",
       " unique                                               6327            NaN   \n",
       " top     University degree required. TEFL / TESOL / CEL...            NaN   \n",
       " freq                                                  200            NaN   \n",
       " mean                                                  NaN       0.043736   \n",
       " std                                                   NaN       0.204519   \n",
       " min                                                   NaN       0.000000   \n",
       " 25%                                                   NaN       0.000000   \n",
       " 50%                                                   NaN       0.000000   \n",
       " 75%                                                   NaN       0.000000   \n",
       " max                                                   NaN       1.000000   \n",
       " \n",
       "         has_company_logo  has_questions   fraudulent  \n",
       " count        8940.000000    8940.000000  8940.000000  \n",
       " unique               NaN            NaN          NaN  \n",
       " top                  NaN            NaN          NaN  \n",
       " freq                 NaN            NaN          NaN  \n",
       " mean            0.794407       0.487248     0.051007  \n",
       " std             0.404157       0.499865     0.220024  \n",
       " min             0.000000       0.000000     0.000000  \n",
       " 25%             1.000000       0.000000     0.000000  \n",
       " 50%             1.000000       0.000000     0.000000  \n",
       " 75%             1.000000       1.000000     0.000000  \n",
       " max             1.000000       1.000000     1.000000  )"
      ]
     },
     "execution_count": 2,
     "metadata": {},
     "output_type": "execute_result"
    }
   ],
   "source": [
    "import pandas as pd \n",
    "\n",
    "file_path = 'C:\\\\Users\\\\vardh\\\\.vscode\\\\Identifying-Fake-Job-Listing\\\\job_train.csv'\n",
    "job_data = pd.read_csv(file_path)\n",
    "\n",
    "job_data.head(), job_data.info(), job_data.describe(include='all')\n"
   ]
  },
  {
   "cell_type": "code",
   "execution_count": null,
   "metadata": {},
   "outputs": [],
   "source": []
  }
 ],
 "metadata": {
  "kernelspec": {
   "display_name": "Python 3",
   "language": "python",
   "name": "python3"
  },
  "language_info": {
   "codemirror_mode": {
    "name": "ipython",
    "version": 3
   },
   "file_extension": ".py",
   "mimetype": "text/x-python",
   "name": "python",
   "nbconvert_exporter": "python",
   "pygments_lexer": "ipython3",
   "version": "3.11.9"
  }
 },
 "nbformat": 4,
 "nbformat_minor": 2
}
