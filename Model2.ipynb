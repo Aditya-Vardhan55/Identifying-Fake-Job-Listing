{
 "cells": [
  {
   "cell_type": "code",
   "execution_count": 5,
   "metadata": {},
   "outputs": [],
   "source": [
    "import pandas as pd\n",
    "import numpy as np\n",
    "from sklearn.model_selection import train_test_split, cross_val_score\n",
    "from sklearn.feature_extraction.text import TfidfVectorizer\n",
    "from sklearn.pipeline import Pipeline\n",
    "from sklearn.compose import ColumnTransformer\n",
    "from sklearn.preprocessing import OneHotEncoder\n",
    "from sklearn.ensemble import RandomForestClassifier\n",
    "from sklearn.metrics import classification_report, confusion_matrix\n",
    "from sklearn.utils.class_weight import compute_class_weight\n",
    "\n",
    "# Load and prepare data\n",
    "def load_data(file_path):\n",
    "    df = pd.read_csv(file_path)\n",
    "    # Fill missing values\n",
    "    df['description'].fillna('No description', inplace= True)\n",
    "    df['requirements'].fillna('No requirements', inplace= True)\n",
    "    df['location'].fillna('Unknown', inplace= True)\n",
    "    return df\n",
    "\n",
    "# Create feature pipeline\n",
    "def create_pipeline():\n",
    "    # Text features\n",
    "    text_features = Pipeline([\n",
    "        ('tfidf', TfidfVectorizer(max_features= 5000, stop_words= 'english'))\n",
    "    ])\n",
    "    \n",
    "    # Categorial features\n",
    "    cat_features = Pipeline([\n",
    "        ('tfidf', OneHotEncoder(handle_unknown='ignore'))\n",
    "    ])\n",
    "    \n",
    "    # Combine all features\n",
    "    preprocessor = ColumnTransformer([\n",
    "        ('text', text_features, 'description'),\n",
    "        ('cat', cat_features, ['location'])\n",
    "    ])\n",
    "    \n",
    "    # Create full pipeline\n",
    "    model = Pipeline([\n",
    "        ('preprocessor', preprocessor),\n",
    "        ('classifier', RandomForestClassifier(\n",
    "            n_estimators= 100,\n",
    "            max_depth= None,\n",
    "            min_samples_split= 2,\n",
    "            min_samples_leaf= 1,\n",
    "            max_features= 'sqrt',\n",
    "            class_weight= 'balanced',\n",
    "            random_state= 42\n",
    "        ))\n",
    "    ])\n",
    "    \n",
    "    return model\n",
    "\n",
    "def main():\n",
    "    # Load data\n",
    "    df = load_data('C:\\\\Users\\\\vardh\\\\.vscode\\\\Identifying-Fake-Job-Listing\\\\job_train.csv')\n",
    "    \n",
    "    # Prepare features and target\n",
    "    X = df[['description', 'location']]\n",
    "    y = df['fradulent']\n",
    "    \n",
    "    # Split data\n",
    "    X_train, X_test, y_train, y_test = train_test_split(X, y, test_size= 0.2, random_state= 42, stratify= y)\n",
    "    \n",
    "    # Create and train model\n",
    "    model = create_pipeline()\n",
    "    model.fit(X_train, y_train)\n",
    "    \n",
    "    # Make predictions\n",
    "    y_pred = model.predict(X_test)\n",
    "    \n",
    "    # Print results\n",
    "    print(\"\\n Classification Report:\")\n",
    "    print(classification_report(y_test, y_pred, target_names=['Legitimate', 'Fraudulent']))\n",
    "    \n",
    "    # Cross-validation\n",
    "    cv_scores = cross_val_score(model, X_train, y_train, cv= 5, scoring= 'f1')\n",
    "    print(\"\\n Cross-validation F1 scores:\", cv_scores)\n",
    "    print(f\"Average F1 score: {cv_scores.mean():.3f} (+/- {cv_scores.std() * 2:.3f})\")\n",
    "    \n",
    "    "
   ]
  },
  {
   "cell_type": "code",
   "execution_count": 4,
   "metadata": {},
   "outputs": [
    {
     "ename": "NameError",
     "evalue": "name 'model' is not defined",
     "output_type": "error",
     "traceback": [
      "\u001b[1;31m---------------------------------------------------------------------------\u001b[0m",
      "\u001b[1;31mNameError\u001b[0m                                 Traceback (most recent call last)",
      "Cell \u001b[1;32mIn[4], line 3\u001b[0m\n\u001b[0;32m      1\u001b[0m \u001b[38;5;28;01mimport\u001b[39;00m \u001b[38;5;21;01mpickle\u001b[39;00m\n\u001b[0;32m      2\u001b[0m \u001b[38;5;28;01mwith\u001b[39;00m \u001b[38;5;28mopen\u001b[39m(\u001b[38;5;124m'\u001b[39m\u001b[38;5;124mjob_train_model.pkl\u001b[39m\u001b[38;5;124m'\u001b[39m, \u001b[38;5;124m'\u001b[39m\u001b[38;5;124mwb\u001b[39m\u001b[38;5;124m'\u001b[39m) \u001b[38;5;28;01mas\u001b[39;00m file:\n\u001b[1;32m----> 3\u001b[0m     pickle\u001b[38;5;241m.\u001b[39mdump(\u001b[43mmodel\u001b[49m, file)\n",
      "\u001b[1;31mNameError\u001b[0m: name 'model' is not defined"
     ]
    }
   ],
   "source": [
    "import pickle\n",
    "with open('job_train_model.pkl', 'wb') as file:\n",
    "    pickle.dump(model, file)"
   ]
  },
  {
   "cell_type": "code",
   "execution_count": null,
   "metadata": {},
   "outputs": [],
   "source": []
  }
 ],
 "metadata": {
  "kernelspec": {
   "display_name": "Python 3",
   "language": "python",
   "name": "python3"
  },
  "language_info": {
   "codemirror_mode": {
    "name": "ipython",
    "version": 3
   },
   "file_extension": ".py",
   "mimetype": "text/x-python",
   "name": "python",
   "nbconvert_exporter": "python",
   "pygments_lexer": "ipython3",
   "version": "3.11.9"
  }
 },
 "nbformat": 4,
 "nbformat_minor": 2
}
